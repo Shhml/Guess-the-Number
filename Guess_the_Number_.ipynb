{
  "nbformat": 4,
  "nbformat_minor": 0,
  "metadata": {
    "colab": {
      "provenance": []
    },
    "kernelspec": {
      "name": "python3",
      "display_name": "Python 3"
    },
    "language_info": {
      "name": "python"
    }
  },
  "cells": [
    {
      "cell_type": "markdown",
      "source": [
        "#***Guess the Number***"
      ],
      "metadata": {
        "id": "EFvYjv_mVxzY"
      }
    },
    {
      "cell_type": "code",
      "execution_count": null,
      "metadata": {
        "colab": {
          "base_uri": "https://localhost:8080/"
        },
        "id": "XNtH-BQdVtDm",
        "outputId": "6b50dc67-a5ea-45e3-ba0b-26b0976d099b"
      },
      "outputs": [
        {
          "output_type": "stream",
          "name": "stdout",
          "text": [
            "Guess the number between 1 and 100!\n",
            "Enter your guess: 45\n",
            "Too low! Try again.\n",
            "Enter your guess: 65\n",
            "Too low! Try again.\n",
            "Enter your guess: 89\n",
            "Too low! Try again.\n",
            "Enter your guess: 95\n",
            "Congratulations! You guessed the number in 4 attempts.\n"
          ]
        }
      ],
      "source": [
        "import random\n",
        "\n",
        "number = random.randint(1, 100)\n",
        "attempts = 0\n",
        "\n",
        "print(\"Guess the number between 1 and 100!\")\n",
        "\n",
        "while True:\n",
        "    guess = int(input(\"Enter your guess: \"))\n",
        "    attempts += 1\n",
        "\n",
        "    if guess < number:\n",
        "        print(\"Too low! Try again.\")\n",
        "    elif guess > number:\n",
        "        print(\"Too high! Try again.\")\n",
        "    else:\n",
        "        print(f\"Congratulations! You guessed the number in {attempts} attempts.\")\n",
        "        break"
      ]
    }
  ]
}